{
 "cells": [
  {
   "cell_type": "markdown",
   "metadata": {},
   "source": [
    "# Basic regression with Tensorflow\n",
    "Learning how tensorflow works starting with simple linear regression"
   ]
  },
  {
   "cell_type": "code",
   "execution_count": 1,
   "metadata": {
    "collapsed": true
   },
   "outputs": [],
   "source": [
    "import numpy as np\n",
    "import matplotlib.pyplot as plt\n",
    "import tensorflow as tf\n",
    "%matplotlib inline"
   ]
  },
  {
   "cell_type": "markdown",
   "metadata": {},
   "source": [
    "## Settings"
   ]
  },
  {
   "cell_type": "code",
   "execution_count": 2,
   "metadata": {
    "collapsed": true
   },
   "outputs": [],
   "source": [
    "learning_rate = .001\n",
    "epochs = 400\n",
    "data_set_size = 50\n",
    "batch_size = 10\n",
    "test_set_size = 20\n",
    "print_every = 50"
   ]
  },
  {
   "cell_type": "code",
   "execution_count": 3,
   "metadata": {
    "collapsed": false
   },
   "outputs": [],
   "source": [
    "num_batches = data_set_size/batch_size\n",
    "assert data_set_size%batch_size == 0, \"The data_set_size must be evely divisible by the batch_size\""
   ]
  },
  {
   "cell_type": "markdown",
   "metadata": {},
   "source": [
    "## Generate some data"
   ]
  },
  {
   "cell_type": "code",
   "execution_count": 4,
   "metadata": {
    "collapsed": true
   },
   "outputs": [],
   "source": [
    "def getY(x):\n",
    "    return .125*x+np.random.randn(x.shape[0])*.125 +2"
   ]
  },
  {
   "cell_type": "code",
   "execution_count": 5,
   "metadata": {
    "collapsed": false
   },
   "outputs": [],
   "source": [
    "# simple linear relationship\n",
    "\n",
    "train_x = np.ones((data_set_size,2))\n",
    "train_x[:,1:] = np.linspace(-10,10,data_set_size)[:,np.newaxis]\n",
    "train_y = getY(train_x[:,1])\n",
    "\n",
    "\n",
    "test_x = np.ones((test_set_size,2))\n",
    "test_x[:,1:] = np.linspace(-10,10,test_set_size)[:,np.newaxis]\n",
    "test_y = getY(test_x[:,1])\n"
   ]
  },
  {
   "cell_type": "code",
   "execution_count": 6,
   "metadata": {
    "collapsed": false
   },
   "outputs": [
    {
     "data": {
      "text/plain": [
       "<matplotlib.legend.Legend at 0x7fb29aaaf910>"
      ]
     },
     "execution_count": 6,
     "metadata": {},
     "output_type": "execute_result"
    },
    {
     "data": {
      "image/png": "[encoded data removed]",
      "text/plain": [
       "<matplotlib.figure.Figure at 0x7fb29aaaf790>"
      ]
     },
     "metadata": {},
     "output_type": "display_data"
    }
   ],
   "source": [
    "plt.figure()\n",
    "plt.plot(train_x[:,1],train_y,'ro',label='Training Data')\n",
    "plt.plot(test_x[:,1],test_y,'bo',label='Testing Data')\n",
    "plt.legend()\n"
   ]
  },
  {
   "cell_type": "markdown",
   "metadata": {},
   "source": [
    "Make the tensorflow placeholders"
   ]
  },
  {
   "cell_type": "code",
   "execution_count": 7,
   "metadata": {
    "collapsed": true
   },
   "outputs": [],
   "source": [
    "X = tf.placeholder(tf.float32, shape = [batch_size,2])\n",
    "Y = tf.placeholder(tf.float32, shape = [batch_size])"
   ]
  },
  {
   "cell_type": "code",
   "execution_count": 8,
   "metadata": {
    "collapsed": false
   },
   "outputs": [],
   "source": [
    "# setup model weights\n",
    "W = tf.Variable(np.random.randn(2,1).astype(np.float32),name='weight')"
   ]
  },
  {
   "cell_type": "code",
   "execution_count": 9,
   "metadata": {
    "collapsed": false
   },
   "outputs": [],
   "source": [
    "# make the model\n",
    "yhat = tf.matmul(X,W)\n",
    "\n",
    "y_error = tf.subtract(yhat,Y)\n",
    "cost = tf.reduce_sum(tf.divide(tf.pow(y_error,2),2*batch_size))"
   ]
  },
  {
   "cell_type": "code",
   "execution_count": 10,
   "metadata": {
    "collapsed": false
   },
   "outputs": [],
   "source": [
    "# set up the optimizer\n",
    "optimizer = tf.train.GradientDescentOptimizer(learning_rate).minimize(cost)"
   ]
  },
  {
   "cell_type": "code",
   "execution_count": 11,
   "metadata": {
    "collapsed": true
   },
   "outputs": [],
   "source": [
    "init = tf.global_variables_initializer()"
   ]
  },
  {
   "cell_type": "code",
   "execution_count": 12,
   "metadata": {
    "collapsed": true
   },
   "outputs": [],
   "source": [
    "# utility function to compute a batch\n",
    "# can compute over the optimizer or cost and return the cost if needed\n",
    "def computeBatch(solveFor):\n",
    "    x = 0\n",
    "    for batch in xrange(num_batches):\n",
    "        batch_start = batch*batch_size\n",
    "        batch_end = batch_start + batch_size\n",
    "        temp = sess.run(solveFor, feed_dict={X:train_x[batch_start:batch_end,:],Y:train_y[batch_start:batch_end]})\n",
    "        if type(temp) is not type(None):\n",
    "            x += temp\n",
    "    return x\n",
    "        "
   ]
  },
  {
   "cell_type": "code",
   "execution_count": 13,
   "metadata": {
    "collapsed": false,
    "scrolled": true
   },
   "outputs": [
    {
     "name": "stdout",
     "output_type": "stream",
     "text": [
      "epoch: 0\t cost: 2.24e+02\n",
      "epoch: 50\t cost: 1.99e+00\n",
      "epoch: 100\t cost: 1.44e+00\n",
      "epoch: 150\t cost: 1.44e+00\n",
      "epoch: 200\t cost: 1.44e+00\n",
      "epoch: 250\t cost: 1.44e+00\n",
      "epoch: 300\t cost: 1.44e+00\n",
      "epoch: 350\t cost: 1.44e+00\n",
      "epoch: 400\t cost: 1.44e+00\n"
     ]
    },
    {
     "name": "stderr",
     "output_type": "stream",
     "text": [
      "/usr/local/lib/python2.7/dist-packages/ipykernel/__main__.py:23: RuntimeWarning: divide by zero encountered in log\n"
     ]
    },
    {
     "data": {
      "text/plain": [
       "<matplotlib.text.Text at 0x7fb2945d2390>"
      ]
     },
     "execution_count": 13,
     "metadata": {},
     "output_type": "execute_result"
    },
    {
     "data": {
      "image/png": "[encoded data removed]",
      "text/plain": [
       "<matplotlib.figure.Figure at 0x7fb2f57e45d0>"
      ]
     },
     "metadata": {},
     "output_type": "display_data"
    },
    {
     "data": {
      "image/png": "[encoded data removed]",
      "text/plain": [
       "<matplotlib.figure.Figure at 0x7fb29aa47d10>"
      ]
     },
     "metadata": {},
     "output_type": "display_data"
    }
   ],
   "source": [
    "costs = np.array([])\n",
    "\n",
    "with tf.Session() as sess:\n",
    "    sess.run(init)\n",
    "\n",
    "    for epoch in xrange(epochs+1):\n",
    "        computeBatch(optimizer)\n",
    "        \n",
    "        if epoch % print_every == 0:\n",
    "            c = computeBatch(cost)\n",
    "            costs = np.append(costs,c)\n",
    "            print('epoch: {}\\t cost: {:.2e}'.format(epoch, computeBatch(cost)))\n",
    "            \n",
    "    W_finished = sess.run(W)\n",
    "            \n",
    "plt.figure()\n",
    "plt.plot(np.linspace(0,epochs,epochs/print_every+1),costs)\n",
    "plt.title('Cost')\n",
    "plt.xlabel('Epoch Number')\n",
    "plt.ylabel('Cost')\n",
    "\n",
    "plt.figure()\n",
    "plt.plot(np.log(np.linspace(0,epochs,epochs/print_every+1)),np.log(costs))\n",
    "plt.title('Log Cost')\n",
    "plt.xlabel('log(Epoch Number)')\n",
    "plt.ylabel('log(Cost)')\n",
    "\n",
    "        "
   ]
  },
  {
   "cell_type": "code",
   "execution_count": 14,
   "metadata": {
    "collapsed": false
   },
   "outputs": [],
   "source": [
    "# Compute the resulting line for the test set\n",
    "pred_y = np.dot(test_x,W_finished)"
   ]
  },
  {
   "cell_type": "code",
   "execution_count": 15,
   "metadata": {
    "collapsed": false
   },
   "outputs": [
    {
     "data": {
      "text/plain": [
       "<matplotlib.legend.Legend at 0x7fb294204b10>"
      ]
     },
     "execution_count": 15,
     "metadata": {},
     "output_type": "execute_result"
    },
    {
     "data": {
      "image/png": "[encoded data removed]",
      "text/plain": [
       "<matplotlib.figure.Figure at 0x7fb29452f990>"
      ]
     },
     "metadata": {},
     "output_type": "display_data"
    }
   ],
   "source": [
    "plt.plot(train_x[:,1],train_y,'ro',label='Training Data')\n",
    "plt.plot(test_x[:,1],test_y,'bo',label='Testing Data')\n",
    "plt.plot(test_x[:,1],pred_y,label='Line of Best Fit (Test)')\n",
    "plt.title('Resulting Model')\n",
    "plt.xlabel('x-data')\n",
    "plt.ylabel('y-data')\n",
    "plt.legend()"
   ]
  },
  {
   "cell_type": "code",
   "execution_count": 16,
   "metadata": {
    "collapsed": false
   },
   "outputs": [
    {
     "name": "stdout",
     "output_type": "stream",
     "text": [
      "[[ 1.98944914]\n",
      " [ 0.11914054]]\n"
     ]
    }
   ],
   "source": [
    "print W_finished"
   ]
  },
  {
   "cell_type": "code",
   "execution_count": null,
   "metadata": {
    "collapsed": true
   },
   "outputs": [],
   "source": []
  }
 ],
 "metadata": {
  "kernelspec": {
   "display_name": "Python 2",
   "language": "python",
   "name": "python2"
  },
  "language_info": {
   "codemirror_mode": {
    "name": "ipython",
    "version": 2
   },
   "file_extension": ".py",
   "mimetype": "text/x-python",
   "name": "python",
   "nbconvert_exporter": "python",
   "pygments_lexer": "ipython2",
   "version": "2.7.12"
  }
 },
 "nbformat": 4,
 "nbformat_minor": 2
}
