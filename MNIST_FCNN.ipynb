{
 "cells": [
  {
   "cell_type": "markdown",
   "metadata": {
    "deletable": true,
    "editable": true
   },
   "source": [
    "# Fully Convolutional MNIST\n",
    "This is to get a feel for building classifiers in TF\n",
    "\n",
    "This model is fully convolutional, no fully connected layers\n",
    "\n",
    "It works okay, but is really weird about more than 2 layer, sometimes it works, others it doesn't\n",
    "\n",
    "As with any deepish NN, initialization is key. I did a blind manual search to find the values for the weight range and learning rate.\n",
    "\n",
    "With incorrect hyper parameters, the model seems to 'forget' some of the possible outputs and simply never predicts them."
   ]
  },
  {
   "cell_type": "code",
   "execution_count": 1,
   "metadata": {
    "collapsed": false,
    "deletable": true,
    "editable": true
   },
   "outputs": [],
   "source": [
    "import numpy as np\n",
    "import matplotlib.pyplot as plt\n",
    "import tensorflow as tf\n",
    "%matplotlib inline\n",
    "plt.rcParams['figure.figsize'] = (15,10)\n",
    "\n",
    "# auto reloading of modules\n",
    "%load_ext autoreload\n",
    "%autoreload 2\n",
    "\n",
    "# setup logging\n",
    "tf.logging.set_verbosity(tf.logging.INFO)"
   ]
  },
  {
   "cell_type": "code",
   "execution_count": 2,
   "metadata": {
    "collapsed": false,
    "deletable": true,
    "editable": true
   },
   "outputs": [],
   "source": [
    "# Settings\n",
    "batch_size = 1000\n",
    "epochs = 20 # number of epochs to train for\n",
    "learning_rate = .01\n",
    "momentum = .9\n",
    "print_every = 25 # print info about training at iterations\n",
    "test_every = 50 # number of iterations to go between doing 1 epoch of testing\n",
    "\n",
    "reg = 0.01 # regularization strength\n",
    "\n",
    "num_train = 60000 # 60000 max\n",
    "num_test = 5000 # 10000 max\n",
    "\n",
    "filter_depth = [10,10,10,10,10] # how many layers are in each convolution\n",
    "filter_extent = [5,5,5,5,5] # how big the filters are on each layer\n",
    "filter_stride = [1,1,1,1,1]\n",
    "pool_use = False # use max pooling?\n",
    "pool_stride = [2,2,2,2,2] # how big the stride is at every pool\n",
    "pool_extent = [2,2,2,2,2] # how wide to max pool over\n",
    "layer_padding = 'VALID'\n",
    "checkpoint_file = 'models/MNIST_FCNN.ckpt'\n",
    "\n",
    "img_shape = (28,28,1)\n",
    "\n",
    "log_file = 'logs/' # where to save the tf log files\n",
    "\n",
    "SEED = 0 # seed for random numbers"
   ]
  },
  {
   "cell_type": "code",
   "execution_count": 3,
   "metadata": {
    "collapsed": false,
    "deletable": true,
    "editable": true
   },
   "outputs": [
    {
     "name": "stdout",
     "output_type": "stream",
     "text": [
      "In conv and VALID\n",
      "After convolution 1 and pooling, width is 24.0\n",
      "In conv and VALID\n",
      "After convolution 2 and pooling, width is 20.0\n",
      "In conv and VALID\n",
      "After convolution 3 and pooling, width is 16.0\n",
      "In conv and VALID\n",
      "After convolution 4 and pooling, width is 12.0\n",
      "In conv and VALID\n",
      "After convolution 5 and pooling, width is 8.0\n",
      "Adding a 8x8 filter to remove spatial extents\n"
     ]
    }
   ],
   "source": [
    "# these are updates/modifications/ utilites based on settings, do not change\n",
    "\n",
    "# fixed seed for consistancy\n",
    "np.random.seed(SEED)\n",
    "\n",
    "# set up number of batches, make sure its a valid number\n",
    "num_batches_train = num_train/batch_size\n",
    "num_batches_test = num_test/batch_size\n",
    "assert num_train%batch_size == 0, 'The number of training samples must be divisible by the batch size'\n",
    "assert num_test%batch_size == 0, 'The number of test samples must be divisible by the batch size'\n",
    "\n",
    "# determine how big the filter must be on the last layer to get a [nx1x10] vector\n",
    "layer_width = float(img_shape[0])\n",
    "counter = 0\n",
    "for FE,FS,PS,PE in zip(filter_extent, filter_stride, pool_stride, pool_extent):\n",
    "    counter += 1\n",
    "    \n",
    "    if layer_padding == 'VALID':\n",
    "        print('In conv and VALID')\n",
    "        layer_width = np.ceil(float(layer_width - FE + 1)/float(FS))\n",
    "    elif layer_padding == 'SAME':\n",
    "        print('In conv and SAME')\n",
    "        layer_width = np.ceil(float(layer_width)/float(FS))\n",
    "    else:\n",
    "        print('\\n\\n--ERROR--\\nInvalid padding scheme\\n--ERROR--\\n\\n')\n",
    "        break\n",
    "    \n",
    "    if pool_use:\n",
    "        if layer_padding == 'VALID':\n",
    "            print('In pooling and VALID')\n",
    "            layer_width = np.ceil(float(layer_width - PE + 1)/float(PS))\n",
    "        elif layer_padding == 'SAME':\n",
    "            print('In pooling and SAME')\n",
    "            layer_width = np.ceil(float(layer_width)/float(PS))\n",
    "        else:\n",
    "            print('\\n\\n--ERROR--\\nInvalid padding scheme\\n--ERROR--\\n\\n')\n",
    "            break\n",
    "        \n",
    "    assert layer_width %int(layer_width) == 0, 'Current filter sizes, padding, stride, and pooling cause a non-integer output of layer {}'.format(counter)\n",
    "    assert layer_width >= 1.0, 'Current filter sizes, padding, stride, and pooling cause a negative output of layer {}'.format(counter)\n",
    "    print('After convolution {} and pooling, width is {}'.format(counter,layer_width))\n",
    "print('Adding a {:.0f}x{:.0f} filter to remove spatial extents'.format(layer_width,layer_width))\n",
    "filter_extent.append(layer_width)\n",
    "filter_depth.append(10) # 10 outputs\n",
    "filter_stride.append(1) # arbitrary, it can only do it once anyway"
   ]
  },
  {
   "cell_type": "markdown",
   "metadata": {
    "deletable": true,
    "editable": true
   },
   "source": [
    "## Using code from 3_mnist_from_scratch tutorial to deal with downloads and working with MNIST data\n",
    "\n",
    "Took the code and made a simple module to make everything cleaner"
   ]
  },
  {
   "cell_type": "code",
   "execution_count": 4,
   "metadata": {
    "collapsed": false,
    "deletable": true,
    "editable": true
   },
   "outputs": [
    {
     "name": "stdout",
     "output_type": "stream",
     "text": [
      "('Already downloaded', 'train-images-idx3-ubyte.gz')\n",
      "('Already downloaded', 'train-labels-idx1-ubyte.gz')\n",
      "('Already downloaded', 't10k-images-idx3-ubyte.gz')\n",
      "('Already downloaded', 't10k-labels-idx1-ubyte.gz')\n",
      "('Extracting', '/tmp/mnist-data/train-images-idx3-ubyte.gz')\n",
      "('Extracting', '/tmp/mnist-data/t10k-images-idx3-ubyte.gz')\n",
      "('Extracting', '/tmp/mnist-data/train-labels-idx1-ubyte.gz')\n",
      "('Extracting', '/tmp/mnist-data/t10k-labels-idx1-ubyte.gz')\n"
     ]
    }
   ],
   "source": [
    "import getMNIST\n",
    "fNames = getMNIST.downloadMNIST()\n",
    "\n",
    "train_data = getMNIST.extract_data(fNames[0],num_train)\n",
    "test_data = getMNIST.extract_data(fNames[2],num_test)\n",
    "\n",
    "train_labels = getMNIST.extract_labels(fNames[1], num_train)\n",
    "test_labels = getMNIST.extract_labels(fNames[3], num_test)"
   ]
  },
  {
   "cell_type": "markdown",
   "metadata": {
    "deletable": true,
    "editable": true
   },
   "source": [
    "## Building the model"
   ]
  },
  {
   "cell_type": "code",
   "execution_count": 5,
   "metadata": {
    "collapsed": false,
    "deletable": true,
    "editable": true
   },
   "outputs": [],
   "source": [
    "# Set up inputs and outputs\n",
    "X = tf.placeholder(tf.float32, shape = [batch_size,img_shape[0],img_shape[1],img_shape[2]],name='Input')\n",
    "Y = tf.placeholder(tf.float32, shape = [batch_size,10],name = 'Labels') # 10 labels"
   ]
  },
  {
   "cell_type": "code",
   "execution_count": 6,
   "metadata": {
    "collapsed": false,
    "deletable": true,
    "editable": true
   },
   "outputs": [
    {
     "name": "stdout",
     "output_type": "stream",
     "text": [
      "conv3: <tf.Variable 'conv_weights_3:0' shape=(5, 5, 10, 10) dtype=float32_ref>\n",
      "conv3: <tf.Variable 'conv_bias_3:0' shape=(10,) dtype=float32_ref>\n",
      "conv2: <tf.Variable 'conv_weights_2:0' shape=(5, 5, 10, 10) dtype=float32_ref>\n",
      "conv2: <tf.Variable 'conv_bias_2:0' shape=(10,) dtype=float32_ref>\n",
      "conv1: <tf.Variable 'conv_weights_1:0' shape=(5, 5, 1, 10) dtype=float32_ref>\n",
      "conv1: <tf.Variable 'conv_bias_1:0' shape=(10,) dtype=float32_ref>\n",
      "conv6: <tf.Variable 'conv_weights_6:0' shape=(8, 8, 10, 10) dtype=float32_ref>\n",
      "conv6: <tf.Variable 'conv_bias_6:0' shape=(10,) dtype=float32_ref>\n",
      "conv5: <tf.Variable 'conv_weights_5:0' shape=(5, 5, 10, 10) dtype=float32_ref>\n",
      "conv5: <tf.Variable 'conv_bias_5:0' shape=(10,) dtype=float32_ref>\n",
      "conv4: <tf.Variable 'conv_weights_4:0' shape=(5, 5, 10, 10) dtype=float32_ref>\n",
      "conv4: <tf.Variable 'conv_bias_4:0' shape=(10,) dtype=float32_ref>\n"
     ]
    }
   ],
   "source": [
    "conv_weights = {}\n",
    "conv_bias = {}\n",
    "\n",
    "prev_layer_depth = img_shape[2]\n",
    "for layer in range(len(filter_depth)):\n",
    "    layer_name = 'conv'+str(layer+1)\n",
    "    \n",
    "    filter_shape = [int(filter_extent[layer]),int(filter_extent[layer]), prev_layer_depth, int(filter_depth[layer])]\n",
    "    \n",
    "    \n",
    "    # set up the scales for the weights\n",
    "    # see https://www.tensorflow.org/versions/r0.11/api_docs/python/contrib.layers/initializers#xavier_initializer \n",
    "    # for more info, specifically varianc_scaling_initializer and http://arxiv.org/pdf/1502.01852v1.pdf\n",
    "    fan_in = prev_layer_depth*filter_extent[layer]**2\n",
    "    weight_scale = np.sqrt(2./fan_in)\n",
    "    \n",
    "    conv_weights[layer_name] = tf.Variable(tf.truncated_normal(filter_shape,\n",
    "                                              stddev = weight_scale,\n",
    "                                              seed = SEED),\n",
    "                                          name = 'conv_weights_' + str(layer+1))\n",
    "    \n",
    "    conv_bias[layer_name] = tf.Variable(tf.zeros([int(filter_depth[layer])],dtype=tf.float32),\n",
    "                                       name = 'conv_bias_' + str(layer+1))    \n",
    "    \n",
    "    prev_layer_depth = filter_depth[layer]\n",
    "    \n",
    "for layer in conv_weights:\n",
    "    print('{}: {}'.format(layer, conv_weights[layer]))\n",
    "    print('{}: {}'.format(layer, conv_bias[layer]))\n",
    "    "
   ]
  },
  {
   "cell_type": "code",
   "execution_count": 7,
   "metadata": {
    "collapsed": false
   },
   "outputs": [
    {
     "data": {
      "text/plain": [
       "640.0"
      ]
     },
     "execution_count": 7,
     "metadata": {},
     "output_type": "execute_result"
    }
   ],
   "source": [
    "fan_in"
   ]
  },
  {
   "cell_type": "code",
   "execution_count": 8,
   "metadata": {
    "collapsed": false
   },
   "outputs": [
    {
     "data": {
      "text/plain": [
       "0.055901699437494741"
      ]
     },
     "execution_count": 8,
     "metadata": {},
     "output_type": "execute_result"
    }
   ],
   "source": [
    "weight_scale"
   ]
  },
  {
   "cell_type": "code",
   "execution_count": null,
   "metadata": {
    "collapsed": true
   },
   "outputs": [],
   "source": []
  },
  {
   "cell_type": "code",
   "execution_count": null,
   "metadata": {
    "collapsed": true
   },
   "outputs": [],
   "source": []
  },
  {
   "cell_type": "code",
   "execution_count": 9,
   "metadata": {
    "collapsed": false,
    "deletable": true,
    "editable": true
   },
   "outputs": [
    {
     "name": "stdout",
     "output_type": "stream",
     "text": [
      "conv1\n",
      "conv2\n",
      "conv3\n",
      "conv4\n",
      "conv5\n",
      "conv6\n"
     ]
    }
   ],
   "source": [
    "# build the model\n",
    "# dicts to store intermediate values\n",
    "\n",
    "conv = {}\n",
    "relu = {}\n",
    "pool = {}\n",
    "previous_layer = X\n",
    "\n",
    "for layer in range(len(filter_depth)):\n",
    "    layer_name = 'conv'+str(layer+1)\n",
    "    print layer_name\n",
    "    conv[layer_name] = tf.nn.conv2d(previous_layer,\n",
    "                                   conv_weights[layer_name],\n",
    "                                   strides=[1,filter_stride[layer],filter_stride[layer],1],\n",
    "                                   padding='VALID',\n",
    "                                   name = 'conv_' + str(layer+1))\n",
    "    \n",
    "    biased = tf.nn.bias_add(conv[layer_name], \n",
    "                            conv_bias[layer_name],\n",
    "                            name = 'add_bias_' + str(layer+1))\n",
    "    #apply relu\n",
    "    relu[layer_name] = tf.nn.relu(biased,\n",
    "                                  name = 'relu_' + str(layer+1))\n",
    "    \n",
    "    # check if doing pooling and if it is the last layer\n",
    "    # no pooling on the last layer\n",
    "    if pool_use and not layer == len(filter_depth)-1:\n",
    "        print layer\n",
    "        pool[layer_name] = tf.nn.max_pool(relu[layer_name],\n",
    "                                         ksize=[1,2,2,1],\n",
    "                                         strides = [1,2,2,1],\n",
    "                                         padding = 'VALID',\n",
    "                                         name = 'pool_' + str(layer+1))\n",
    "        previous_layer = pool[layer_name]\n",
    "    else: # not the last layer and not pooling \n",
    "        previous_layer = relu[layer_name]\n",
    "\n",
    "    \n",
    "loss = tf.reduce_mean(tf.nn.softmax_cross_entropy_with_logits(labels=Y,logits = previous_layer, name = 'softmax'),\n",
    "                     name = 'loss')\n",
    "\n",
    "# regularization loss\n",
    "for ii in conv_weights:\n",
    "    loss = tf.add(loss,reg * tf.nn.l2_loss(conv_weights[ii],\n",
    "                                           name = 'Regularization_Loss_Addition'),\n",
    "                      name = 'reg_loss_summing')\n",
    "    \n",
    "# get rid of singular dims in tensor\n",
    "scores = tf.squeeze(previous_layer, name = 'prediction_squeeze')\n",
    "predictions = tf.nn.softmax(logits = scores,\n",
    "                           name = 'predictions_softmax')\n",
    "\n",
    "num_correct = tf.reduce_sum(tf.cast(tf.equal(tf.argmax(predictions,1), tf.argmax(Y,1)),tf.float32),\n",
    "                           name = 'num_correct')\n",
    "\n"
   ]
  },
  {
   "cell_type": "code",
   "execution_count": 10,
   "metadata": {
    "collapsed": false
   },
   "outputs": [
    {
     "data": {
      "text/plain": [
       "0.055901699437494741"
      ]
     },
     "execution_count": 10,
     "metadata": {},
     "output_type": "execute_result"
    }
   ],
   "source": [
    "weight_scale"
   ]
  },
  {
   "cell_type": "code",
   "execution_count": null,
   "metadata": {
    "collapsed": true
   },
   "outputs": [],
   "source": []
  },
  {
   "cell_type": "code",
   "execution_count": 11,
   "metadata": {
    "collapsed": false,
    "deletable": true,
    "editable": true
   },
   "outputs": [
    {
     "data": {
      "text/plain": [
       "[<tf.Variable 'conv_weights_1:0' shape=(5, 5, 1, 10) dtype=float32_ref>,\n",
       " <tf.Variable 'conv_bias_1:0' shape=(10,) dtype=float32_ref>,\n",
       " <tf.Variable 'conv_weights_2:0' shape=(5, 5, 10, 10) dtype=float32_ref>,\n",
       " <tf.Variable 'conv_bias_2:0' shape=(10,) dtype=float32_ref>,\n",
       " <tf.Variable 'conv_weights_3:0' shape=(5, 5, 10, 10) dtype=float32_ref>,\n",
       " <tf.Variable 'conv_bias_3:0' shape=(10,) dtype=float32_ref>,\n",
       " <tf.Variable 'conv_weights_4:0' shape=(5, 5, 10, 10) dtype=float32_ref>,\n",
       " <tf.Variable 'conv_bias_4:0' shape=(10,) dtype=float32_ref>,\n",
       " <tf.Variable 'conv_weights_5:0' shape=(5, 5, 10, 10) dtype=float32_ref>,\n",
       " <tf.Variable 'conv_bias_5:0' shape=(10,) dtype=float32_ref>,\n",
       " <tf.Variable 'conv_weights_6:0' shape=(8, 8, 10, 10) dtype=float32_ref>,\n",
       " <tf.Variable 'conv_bias_6:0' shape=(10,) dtype=float32_ref>]"
      ]
     },
     "execution_count": 11,
     "metadata": {},
     "output_type": "execute_result"
    }
   ],
   "source": [
    "tf.trainable_variables()"
   ]
  },
  {
   "cell_type": "code",
   "execution_count": 12,
   "metadata": {
    "collapsed": false,
    "deletable": true,
    "editable": true
   },
   "outputs": [],
   "source": [
    "optimizer = tf.train.MomentumOptimizer(learning_rate, momentum).minimize(loss)\n",
    "init = tf.global_variables_initializer()"
   ]
  },
  {
   "cell_type": "code",
   "execution_count": 13,
   "metadata": {
    "collapsed": false,
    "deletable": true,
    "editable": true
   },
   "outputs": [],
   "source": [
    "with tf.Session() as sess:\n",
    "    sess.run(tf.global_variables_initializer())\n",
    "    \n",
    "    batch = 0\n",
    "    batch_start = batch*batch_size\n",
    "    batch_end = batch_start + batch_size\n",
    "    \n",
    "    # run it\n",
    "    out = sess.run(loss,\n",
    "                   feed_dict={X:train_data[batch_start:batch_end,:],\n",
    "                              Y:train_labels[batch_start:batch_end]})\n",
    "    merged = tf.summary.merge_all()\n",
    "    file_writer = tf.summary.FileWriter(log_file, sess.graph)\n",
    "    "
   ]
  },
  {
   "cell_type": "code",
   "execution_count": 14,
   "metadata": {
    "collapsed": false,
    "deletable": true,
    "editable": true,
    "scrolled": false
   },
   "outputs": [
    {
     "name": "stdout",
     "output_type": "stream",
     "text": [
      "Iteration: 0/1200, batch 0 on epoch 0, \tLoss: 2.79e+00, Train Acc: 0.072\n",
      "Testing Loss: 1.40e+01\tTesting Accuracy: 0.079\n",
      "\n",
      "Iteration: 25/1200, batch 25 on epoch 0, \tLoss: 2.23e+00, Train Acc: 0.467\n",
      "Iteration: 50/1200, batch 50 on epoch 0, \tLoss: 1.27e+00, Train Acc: 0.750\n",
      "Testing Loss: 6.57e+00\tTesting Accuracy: 0.744\n",
      "\n",
      "Iteration: 75/1200, batch 15 on epoch 1, \tLoss: 9.99e-01, Train Acc: 0.826\n",
      "Iteration: 100/1200, batch 40 on epoch 1, \tLoss: 6.71e-01, Train Acc: 0.927\n",
      "Testing Loss: 3.84e+00\tTesting Accuracy: 0.899\n",
      "\n",
      "Iteration: 125/1200, batch 5 on epoch 2, \tLoss: 6.63e-01, Train Acc: 0.930\n",
      "Iteration: 150/1200, batch 30 on epoch 2, \tLoss: 6.24e-01, Train Acc: 0.936\n",
      "Testing Loss: 3.25e+00\tTesting Accuracy: 0.925\n",
      "\n",
      "Iteration: 175/1200, batch 55 on epoch 2, \tLoss: 5.38e-01, Train Acc: 0.963\n",
      "Iteration: 200/1200, batch 20 on epoch 3, \tLoss: 5.67e-01, Train Acc: 0.945\n",
      "Testing Loss: 2.84e+00\tTesting Accuracy: 0.942\n",
      "\n",
      "Iteration: 225/1200, batch 45 on epoch 3, \tLoss: 5.23e-01, Train Acc: 0.942\n",
      "Iteration: 250/1200, batch 10 on epoch 4, \tLoss: 4.66e-01, Train Acc: 0.968\n",
      "Testing Loss: 2.59e+00\tTesting Accuracy: 0.948\n",
      "\n",
      "Iteration: 275/1200, batch 35 on epoch 4, \tLoss: 4.53e-01, Train Acc: 0.965\n",
      "Iteration: 300/1200, batch 0 on epoch 5, \tLoss: 4.67e-01, Train Acc: 0.963\n",
      "Testing Loss: 2.37e+00\tTesting Accuracy: 0.953\n",
      "\n",
      "Iteration: 325/1200, batch 25 on epoch 5, \tLoss: 4.18e-01, Train Acc: 0.967\n",
      "Iteration: 350/1200, batch 50 on epoch 5, \tLoss: 4.28e-01, Train Acc: 0.964\n",
      "Testing Loss: 2.18e+00\tTesting Accuracy: 0.958\n",
      "\n",
      "Iteration: 375/1200, batch 15 on epoch 6, \tLoss: 4.01e-01, Train Acc: 0.972\n",
      "Iteration: 400/1200, batch 40 on epoch 6, \tLoss: 3.65e-01, Train Acc: 0.983\n",
      "Testing Loss: 2.07e+00\tTesting Accuracy: 0.957\n",
      "\n",
      "Iteration: 425/1200, batch 5 on epoch 7, \tLoss: 3.79e-01, Train Acc: 0.972\n",
      "Iteration: 450/1200, batch 30 on epoch 7, \tLoss: 3.67e-01, Train Acc: 0.970\n",
      "Testing Loss: 2.00e+00\tTesting Accuracy: 0.958\n",
      "\n",
      "Iteration: 475/1200, batch 55 on epoch 7, \tLoss: 3.42e-01, Train Acc: 0.972\n",
      "Iteration: 500/1200, batch 20 on epoch 8, \tLoss: 3.65e-01, Train Acc: 0.969\n",
      "Testing Loss: 1.81e+00\tTesting Accuracy: 0.963\n",
      "\n",
      "Iteration: 525/1200, batch 45 on epoch 8, \tLoss: 3.44e-01, Train Acc: 0.958\n",
      "Iteration: 550/1200, batch 10 on epoch 9, \tLoss: 3.22e-01, Train Acc: 0.971\n",
      "Testing Loss: 1.76e+00\tTesting Accuracy: 0.962\n",
      "\n",
      "Iteration: 575/1200, batch 35 on epoch 9, \tLoss: 3.26e-01, Train Acc: 0.967\n",
      "Iteration: 600/1200, batch 0 on epoch 10, \tLoss: 3.24e-01, Train Acc: 0.975\n",
      "Testing Loss: 1.60e+00\tTesting Accuracy: 0.965\n",
      "\n",
      "Iteration: 625/1200, batch 25 on epoch 10, \tLoss: 2.88e-01, Train Acc: 0.976\n",
      "Iteration: 650/1200, batch 50 on epoch 10, \tLoss: 2.88e-01, Train Acc: 0.976\n",
      "Testing Loss: 1.55e+00\tTesting Accuracy: 0.965\n",
      "\n",
      "Iteration: 675/1200, batch 15 on epoch 11, \tLoss: 2.90e-01, Train Acc: 0.977\n",
      "Iteration: 700/1200, batch 40 on epoch 11, \tLoss: 2.59e-01, Train Acc: 0.979\n",
      "Testing Loss: 1.47e+00\tTesting Accuracy: 0.967\n",
      "\n",
      "Iteration: 725/1200, batch 5 on epoch 12, \tLoss: 2.82e-01, Train Acc: 0.975\n",
      "Iteration: 750/1200, batch 30 on epoch 12, \tLoss: 2.62e-01, Train Acc: 0.974\n",
      "Testing Loss: 1.60e+00\tTesting Accuracy: 0.957\n",
      "\n",
      "Iteration: 775/1200, batch 55 on epoch 12, \tLoss: 2.58e-01, Train Acc: 0.976\n",
      "Iteration: 800/1200, batch 20 on epoch 13, \tLoss: 2.77e-01, Train Acc: 0.972\n",
      "Testing Loss: 1.38e+00\tTesting Accuracy: 0.965\n",
      "\n",
      "Iteration: 825/1200, batch 45 on epoch 13, \tLoss: 2.48e-01, Train Acc: 0.977\n",
      "Iteration: 850/1200, batch 10 on epoch 14, \tLoss: 2.32e-01, Train Acc: 0.979\n",
      "Testing Loss: 1.34e+00\tTesting Accuracy: 0.966\n",
      "\n",
      "Iteration: 875/1200, batch 35 on epoch 14, \tLoss: 2.34e-01, Train Acc: 0.980\n",
      "Iteration: 900/1200, batch 0 on epoch 15, \tLoss: 2.63e-01, Train Acc: 0.973\n",
      "Testing Loss: 1.29e+00\tTesting Accuracy: 0.967\n",
      "\n",
      "Iteration: 925/1200, batch 25 on epoch 15, \tLoss: 2.28e-01, Train Acc: 0.978\n",
      "Iteration: 950/1200, batch 50 on epoch 15, \tLoss: 2.20e-01, Train Acc: 0.982\n",
      "Testing Loss: 1.18e+00\tTesting Accuracy: 0.968\n",
      "\n",
      "Iteration: 975/1200, batch 15 on epoch 16, \tLoss: 2.19e-01, Train Acc: 0.979\n",
      "Iteration: 1000/1200, batch 40 on epoch 16, \tLoss: 1.98e-01, Train Acc: 0.982\n",
      "Testing Loss: 1.17e+00\tTesting Accuracy: 0.969\n",
      "\n",
      "Iteration: 1025/1200, batch 5 on epoch 17, \tLoss: 2.33e-01, Train Acc: 0.978\n",
      "Iteration: 1050/1200, batch 30 on epoch 17, \tLoss: 2.01e-01, Train Acc: 0.975\n",
      "Testing Loss: 1.13e+00\tTesting Accuracy: 0.969\n",
      "\n",
      "Iteration: 1075/1200, batch 55 on epoch 17, \tLoss: 1.97e-01, Train Acc: 0.978\n",
      "Iteration: 1100/1200, batch 20 on epoch 18, \tLoss: 2.26e-01, Train Acc: 0.968\n",
      "Testing Loss: 1.10e+00\tTesting Accuracy: 0.969\n",
      "\n",
      "Iteration: 1125/1200, batch 45 on epoch 18, \tLoss: 2.00e-01, Train Acc: 0.979\n",
      "Iteration: 1150/1200, batch 10 on epoch 19, \tLoss: 1.88e-01, Train Acc: 0.986\n",
      "Testing Loss: 1.10e+00\tTesting Accuracy: 0.968\n",
      "\n",
      "Iteration: 1175/1200, batch 35 on epoch 19, \tLoss: 1.83e-01, Train Acc: 0.981\n",
      "Model saved in file: models/MNIST_FCNN.ckpt\n"
     ]
    }
   ],
   "source": [
    "# loss history\n",
    "losses_train = np.array([])\n",
    "losses_test = np.array([])\n",
    "# accuracy history\n",
    "acc_train = np.array([])\n",
    "acc_test = np.array([])\n",
    "\n",
    "saver = tf.train.Saver()\n",
    "\n",
    "iteration = -1 # counter\n",
    "with tf.Session() as sess:\n",
    "    sess.run(tf.global_variables_initializer())\n",
    "    \n",
    "    for epoch in xrange(epochs):        \n",
    "        for batch in xrange(num_batches_train):\n",
    "            iteration += 1\n",
    "            \n",
    "            batch_start = batch*batch_size\n",
    "            batch_end = batch_start + batch_size\n",
    "            \n",
    "            # We want different info based on the iteration. \n",
    "            # We dont actually need to compute everything on every iteration            \n",
    "            if iteration % print_every == 0:\n",
    "                solveFor = [optimizer, loss, predictions, num_correct]\n",
    "            else:\n",
    "                solveFor = [optimizer, loss]\n",
    "            \n",
    "            # run it\n",
    "            out = sess.run(solveFor,\n",
    "                           feed_dict={X:train_data[batch_start:batch_end,:],\n",
    "                                      Y:train_labels[batch_start:batch_end]})\n",
    "            \n",
    "            if iteration % print_every == 0:\n",
    "                _, l, pred, correct = out\n",
    "                acc_train = np.append(acc_train, correct.astype(np.float32)/float(batch_size))\n",
    "            else:\n",
    "                _, l = out\n",
    "                \n",
    "            losses_train = np.append(losses_train,l)\n",
    "            \n",
    "            if iteration % print_every == 0:\n",
    "                print('Iteration: {}/{}, batch {} on epoch {}, \\tLoss: {:.2e}, Train Acc: {:.3f}'.format(iteration, \n",
    "                                                                                            epochs*num_batches_train,\n",
    "                                                                                            batch, \n",
    "                                                                                            epoch, \n",
    "                                                                                            l, \n",
    "                                                                                            acc_train[-1]))\n",
    "            \n",
    "            if iteration % test_every == 0:\n",
    "                l_test = 0\n",
    "                correct_test = 0\n",
    "                for test_it in xrange(num_batches_test):\n",
    "                    batch_start = test_it*batch_size\n",
    "                    batch_end = batch_start + batch_size\n",
    "                    l, correct = sess.run([loss,num_correct],\n",
    "                                         feed_dict={X:test_data[batch_start:batch_end,:],\n",
    "                                                    Y:test_labels[batch_start:batch_end]})\n",
    "                    correct_test += correct\n",
    "                    l_test += l\n",
    "                losses_test = np.append(losses_test,l_test.astype(np.float32)/float(num_batches_test))\n",
    "                acc_test = np.append(acc_test, correct_test.astype(np.float32)/float(num_test))\n",
    "                print('Testing Loss: {:.2e}\\tTesting Accuracy: {:.3f}\\n'.format(l_test, acc_test[-1]))\n",
    "    save_path = saver.save(sess, checkpoint_file)\n",
    "    print(\"Model saved in file: %s\" % save_path)"
   ]
  },
  {
   "cell_type": "code",
   "execution_count": 15,
   "metadata": {
    "collapsed": false,
    "deletable": true,
    "editable": true
   },
   "outputs": [
    {
     "data": {
      "text/plain": [
       "<matplotlib.legend.Legend at 0x7f783ff60390>"
      ]
     },
     "execution_count": 15,
     "metadata": {},
     "output_type": "execute_result"
    },
    {
     "data": {
      "image/png": "[encoded data removed]",
      "text/plain": [
       "<matplotlib.figure.Figure at 0x7f7858ce29d0>"
      ]
     },
     "metadata": {},
     "output_type": "display_data"
    }
   ],
   "source": [
    "# Visualize the cost and log cost from training\n",
    "plt.rcParams['figure.figsize'] = (15,6)\n",
    "\n",
    "plt.subplot(121)\n",
    "plt.plot(np.linspace(0,iteration,losses_train.shape[0]),losses_train,'b',label='Training Loss')\n",
    "plt.plot(np.linspace(0,iteration,losses_test.shape[0]),losses_test,'r',label='Testing Loss')\n",
    "plt.title('Cost')\n",
    "plt.xlabel('Iteration Number')\n",
    "plt.ylabel('Cost')\n",
    "plt.legend()\n",
    "\n",
    "plt.subplot(122)\n",
    "plt.plot(np.log(np.linspace(1,iteration,losses_train.shape[0])),np.log(losses_train),'b',label='Training Loss')\n",
    "plt.plot(np.log(np.linspace(1,iteration,losses_test.shape[0])),np.log(losses_test),'r',label='Testing Loss')\n",
    "plt.title('Log Cost')\n",
    "plt.xlabel('log(Iteration Number)')\n",
    "plt.ylabel('log(Cost)')\n",
    "plt.legend()"
   ]
  },
  {
   "cell_type": "code",
   "execution_count": 16,
   "metadata": {
    "collapsed": false,
    "deletable": true,
    "editable": true
   },
   "outputs": [
    {
     "data": {
      "text/plain": [
       "<matplotlib.legend.Legend at 0x7f783415dd10>"
      ]
     },
     "execution_count": 16,
     "metadata": {},
     "output_type": "execute_result"
    },
    {
     "data": {
      "image/png": "[encoded data removed]",
      "text/plain": [
       "<matplotlib.figure.Figure at 0x7f7858ce2d50>"
      ]
     },
     "metadata": {},
     "output_type": "display_data"
    }
   ],
   "source": [
    "# See how the accuracy plays out between the test and training set\n",
    "plt.rcParams['figure.figsize'] = (15,4)\n",
    "\n",
    "plt.figure()\n",
    "plt.plot(np.linspace(0,iteration,acc_train.shape[0]),acc_train,label = 'Train Accuracy')\n",
    "plt.plot(np.linspace(0,iteration,acc_test.shape[0]),acc_test,label = 'Test Accuracy')\n",
    "plt.title('Accuracy')\n",
    "plt.xlabel('Iteration Number')\n",
    "plt.ylabel('Accuracy')\n",
    "plt.legend()\n"
   ]
  },
  {
   "cell_type": "markdown",
   "metadata": {
    "deletable": true,
    "editable": true
   },
   "source": [
    "## Visualizing the model outputs\n",
    "Want to see how the model did, specifically what is was confused on"
   ]
  },
  {
   "cell_type": "code",
   "execution_count": 17,
   "metadata": {
    "collapsed": false,
    "deletable": true,
    "editable": true
   },
   "outputs": [
    {
     "name": "stdout",
     "output_type": "stream",
     "text": [
      "INFO:tensorflow:Restoring parameters from models/MNIST_FCNN.ckpt\n",
      "Finished loading the model\n",
      "Finished predictions for training data\n",
      "Finished predictions for testing data\n",
      "Done!\n"
     ]
    }
   ],
   "source": [
    "# Generate predictions for the test and train set\n",
    "saver = tf.train.Saver()\n",
    "\n",
    "pred_train = np.zeros((num_train,10))\n",
    "pred_test = np.zeros((num_test,10))\n",
    "\n",
    "\n",
    "with tf.Session() as sess:\n",
    "    # load the model from before\n",
    "    saver.restore(sess, checkpoint_file)\n",
    "    print('Finished loading the model')\n",
    "    \n",
    "    # batch over the entire training set and record predictions\n",
    "    for it in xrange(num_batches_train):\n",
    "        batch_start = it*batch_size\n",
    "        batch_end = batch_start + batch_size\n",
    "        pred_train[batch_start:batch_end,:] = sess.run(predictions,\n",
    "                                                     feed_dict={X:train_data[batch_start:batch_end,:],\n",
    "                                                                Y:train_labels[batch_start:batch_end]})\n",
    "    print('Finished predictions for training data')\n",
    "    \n",
    "    # batch over the entire testing set and record predictions\n",
    "    for it in xrange(num_batches_test):\n",
    "        batch_start = it*batch_size\n",
    "        batch_end = batch_start + batch_size\n",
    "        pred_test[batch_start:batch_end,:] = sess.run(predictions,\n",
    "                                                     feed_dict={X:test_data[batch_start:batch_end,:],\n",
    "                                                                Y:test_labels[batch_start:batch_end]})\n",
    "    print('Finished predictions for testing data')\n",
    "print('Done!')"
   ]
  },
  {
   "cell_type": "code",
   "execution_count": 18,
   "metadata": {
    "collapsed": false,
    "deletable": true,
    "editable": true
   },
   "outputs": [],
   "source": [
    "def error_rate(predictions, labels):\n",
    "    \"\"\"Return the error rate and confusions.\"\"\"    \n",
    "    actual = np.argmax(labels,1)\n",
    "    pred = np.argmax(predictions,1)\n",
    "    correct = np.sum(pred == actual)\n",
    "    total = pred.shape[0]\n",
    "    error = 100.0 - (100 * float(correct) / float(total))\n",
    "\n",
    "    confusions = np.zeros([10, 10], np.float32)\n",
    "    for ii in xrange(predictions.shape[0]):        \n",
    "        confusions[pred[ii], actual[ii]] += 1\n",
    "    \n",
    "    return error, confusions"
   ]
  },
  {
   "cell_type": "code",
   "execution_count": 19,
   "metadata": {
    "collapsed": false,
    "deletable": true,
    "editable": true
   },
   "outputs": [
    {
     "name": "stdout",
     "output_type": "stream",
     "text": [
      "Train error: 2.2%\n"
     ]
    },
    {
     "data": {
      "image/png": "[encoded data removed]",
      "text/plain": [
       "<matplotlib.figure.Figure at 0x7f78340f9350>"
      ]
     },
     "metadata": {},
     "output_type": "display_data"
    }
   ],
   "source": [
    "# Make confusion plot of the training set\n",
    "plt.rcParams['figure.figsize'] = (20, 12)\n",
    "\n",
    "error_train, confusions_train = error_rate(pred_train, train_labels)\n",
    "print('Train error: %.1f%%' % error_train)\n",
    "\n",
    "plt.xlabel('Actual')\n",
    "plt.ylabel('Predicted')\n",
    "plt.grid(False)\n",
    "plt.xticks(np.arange(10))\n",
    "plt.yticks(np.arange(10))\n",
    "plt.imshow(confusions_train, cmap=plt.cm.jet, interpolation='nearest');\n",
    "\n",
    "for i, cas in enumerate(confusions_train):\n",
    "    for j, count in enumerate(cas):\n",
    "        if count > 0:\n",
    "            xoff = .07 * len(str(count))\n",
    "            plt.text(j-xoff, i+.2, int(count), fontsize=12, color='white')"
   ]
  },
  {
   "cell_type": "code",
   "execution_count": 20,
   "metadata": {
    "collapsed": false,
    "deletable": true,
    "editable": true
   },
   "outputs": [
    {
     "name": "stdout",
     "output_type": "stream",
     "text": [
      "Test error: 3.0%\n"
     ]
    },
    {
     "data": {
      "image/png": "[encoded data removed]",
      "text/plain": [
       "<matplotlib.figure.Figure at 0x7f7834196a50>"
      ]
     },
     "metadata": {},
     "output_type": "display_data"
    }
   ],
   "source": [
    "# Make confusion plot of the test set\n",
    "plt.rcParams['figure.figsize'] = (20, 12)\n",
    "\n",
    "error_test, confusions_test = error_rate(pred_test, test_labels)\n",
    "print('Test error: %.1f%%' % error_test)\n",
    "\n",
    "plt.xlabel('Actual')\n",
    "plt.ylabel('Predicted')\n",
    "plt.grid(False)\n",
    "plt.xticks(np.arange(10))\n",
    "plt.yticks(np.arange(10))\n",
    "plt.imshow(confusions_train, cmap=plt.cm.jet, interpolation='nearest');\n",
    "\n",
    "for i, cas in enumerate(confusions_test):\n",
    "    for j, count in enumerate(cas):\n",
    "        if count > 0:\n",
    "            xoff = .07 * len(str(count))\n",
    "            plt.text(j-xoff, i+.2, int(count), fontsize=12, color='white')"
   ]
  },
  {
   "cell_type": "code",
   "execution_count": null,
   "metadata": {
    "collapsed": true,
    "deletable": true,
    "editable": true
   },
   "outputs": [],
   "source": []
  }
 ],
 "metadata": {
  "kernelspec": {
   "display_name": "Python 2",
   "language": "python",
   "name": "python2"
  },
  "language_info": {
   "codemirror_mode": {
    "name": "ipython",
    "version": 2
   },
   "file_extension": ".py",
   "mimetype": "text/x-python",
   "name": "python",
   "nbconvert_exporter": "python",
   "pygments_lexer": "ipython2",
   "version": "2.7.12"
  }
 },
 "nbformat": 4,
 "nbformat_minor": 2
}
