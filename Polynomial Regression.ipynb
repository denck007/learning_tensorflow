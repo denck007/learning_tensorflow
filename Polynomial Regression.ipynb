{
 "cells": [
  {
   "cell_type": "markdown",
   "metadata": {
    "deletable": true,
    "editable": true
   },
   "source": [
    "# Polynomial regression with Tensorflow\n",
    "Going a little more advanced with regression"
   ]
  },
  {
   "cell_type": "code",
   "execution_count": 17,
   "metadata": {
    "collapsed": true,
    "deletable": true,
    "editable": true
   },
   "outputs": [],
   "source": [
    "import numpy as np\n",
    "import matplotlib.pyplot as plt\n",
    "import tensorflow as tf\n",
    "%matplotlib inline"
   ]
  },
  {
   "cell_type": "markdown",
   "metadata": {
    "deletable": true,
    "editable": true
   },
   "source": [
    "## Settings"
   ]
  },
  {
   "cell_type": "code",
   "execution_count": 18,
   "metadata": {
    "collapsed": true,
    "deletable": true,
    "editable": true
   },
   "outputs": [],
   "source": [
    "max_order = 3 # the largest polynomial to include in the model\n",
    "learning_rate = .01\n",
    "epochs = 500\n",
    "data_set_size = 50\n",
    "batch_size = 50\n",
    "test_set_size = 20\n",
    "print_every = 50\n",
    "reg = .01# regularization strength\n",
    "\n",
    "# range the functions are working over\n",
    "range_min = -1\n",
    "range_max = 1"
   ]
  },
  {
   "cell_type": "code",
   "execution_count": 19,
   "metadata": {
    "collapsed": false,
    "deletable": true,
    "editable": true
   },
   "outputs": [],
   "source": [
    "# these are updates/modifications/ utilites based on settings, do not change\n",
    "\n",
    "num_batches = data_set_size/batch_size\n",
    "assert data_set_size%batch_size == 0, \"The data_set_size must be evely divisible by the batch_size\"\n",
    "\n",
    "# need to increment max_order, becasue of bias, and range() not being inclusive\n",
    "max_order += 1\n"
   ]
  },
  {
   "cell_type": "markdown",
   "metadata": {
    "deletable": true,
    "editable": true
   },
   "source": [
    "## Generate some data"
   ]
  },
  {
   "cell_type": "code",
   "execution_count": 20,
   "metadata": {
    "collapsed": false,
    "deletable": true,
    "editable": true
   },
   "outputs": [],
   "source": [
    "# utility function to generate the data for polynomial regression\n",
    "# has the option to add noise to the OUTPUTS, so same function can be used in generating inputs and testing the results\n",
    "# the coeff option makes it easy to apply user specified coeffs for input generation or it can take in the trained weights\n",
    "\n",
    "def getY(x, coeffs, addNoise = True):\n",
    "    var = np.random.rand(x.shape[0],max_order)*.5\n",
    "    \n",
    "    if not addNoise:\n",
    "        var = var * 0\n",
    "        \n",
    "    print var.shape\n",
    "    y = np.zeros(x.shape[0])\n",
    "    \n",
    "    for ii in range(0,max_order):\n",
    "        y += coeffs[ii]*x[:,ii]+(var[:,ii]*x[:,ii])\n",
    "    \n",
    "    return y"
   ]
  },
  {
   "cell_type": "code",
   "execution_count": 21,
   "metadata": {
    "collapsed": false,
    "deletable": true,
    "editable": true,
    "scrolled": true
   },
   "outputs": [
    {
     "name": "stdout",
     "output_type": "stream",
     "text": [
      "(50, 4)\n",
      "(20, 4)\n"
     ]
    }
   ],
   "source": [
    "np.random.seed(seed=0)\n",
    "\n",
    "# set the coefficients for the training data\n",
    "coeffs = np.random.rand(max_order)\n",
    "\n",
    "train_x = np.ones((data_set_size,max_order))\n",
    "xs = np.linspace(range_min,range_max,data_set_size)\n",
    "for ii in range(1,max_order):\n",
    "    train_x[:,ii] = xs**ii\n",
    "train_y = getY(train_x,coeffs,addNoise = True)\n",
    "\n",
    "\n",
    "test_x = np.ones((test_set_size,max_order))\n",
    "xs = np.linspace(range_min,range_max,test_set_size)\n",
    "for ii in range(1,max_order):\n",
    "    test_x[:,ii] = xs**ii\n",
    "test_y = getY(test_x,coeffs,addNoise = True)\n"
   ]
  },
  {
   "cell_type": "code",
   "execution_count": 22,
   "metadata": {
    "collapsed": false,
    "deletable": true,
    "editable": true
   },
   "outputs": [
    {
     "data": {
      "text/plain": [
       "<matplotlib.legend.Legend at 0x7f18dc4afb90>"
      ]
     },
     "execution_count": 22,
     "metadata": {},
     "output_type": "execute_result"
    },
    {
     "data": {
      "image/png": "[encoded data removed]",
      "text/plain": [
       "<matplotlib.figure.Figure at 0x7f18dc556dd0>"
      ]
     },
     "metadata": {},
     "output_type": "display_data"
    }
   ],
   "source": [
    "plt.figure()\n",
    "plt.plot(train_x[:,1],train_y,'ro',label='Training Data')\n",
    "plt.plot(test_x[:,1],test_y,'bo',label='Testing Data')\n",
    "plt.legend()\n",
    "#plt.axis([-5,5,-5,5])\n"
   ]
  },
  {
   "cell_type": "markdown",
   "metadata": {
    "deletable": true,
    "editable": true
   },
   "source": [
    "Make the tensorflow placeholders"
   ]
  },
  {
   "cell_type": "code",
   "execution_count": 23,
   "metadata": {
    "collapsed": true,
    "deletable": true,
    "editable": true
   },
   "outputs": [],
   "source": [
    "X = tf.placeholder(tf.float32, shape = [batch_size,max_order])\n",
    "Y = tf.placeholder(tf.float32, shape = [batch_size])"
   ]
  },
  {
   "cell_type": "code",
   "execution_count": 24,
   "metadata": {
    "collapsed": false,
    "deletable": true,
    "editable": true
   },
   "outputs": [],
   "source": [
    "# setup model weights\n",
    "W = tf.Variable(tf.random_normal([max_order,1]),name='weight')"
   ]
  },
  {
   "cell_type": "code",
   "execution_count": 25,
   "metadata": {
    "collapsed": false,
    "deletable": true,
    "editable": true
   },
   "outputs": [],
   "source": [
    "# make the model\n",
    "yhat = tf.squeeze(tf.matmul(X,W))\n",
    "\n",
    "y_error = tf.subtract(yhat,Y)\n",
    "cost = tf.divide(tf.reduce_sum(tf.pow(y_error,2)),2*batch_size)\n",
    "cost = tf.add(cost,reg*tf.matmul(W[1:],W[1:],transpose_a=True))"
   ]
  },
  {
   "cell_type": "code",
   "execution_count": 26,
   "metadata": {
    "collapsed": false,
    "deletable": true,
    "editable": true
   },
   "outputs": [],
   "source": [
    "# set up the optimizer\n",
    "optimizer = tf.train.GradientDescentOptimizer(learning_rate).minimize(cost)"
   ]
  },
  {
   "cell_type": "code",
   "execution_count": 27,
   "metadata": {
    "collapsed": true,
    "deletable": true,
    "editable": true
   },
   "outputs": [],
   "source": [
    "init = tf.global_variables_initializer()"
   ]
  },
  {
   "cell_type": "code",
   "execution_count": 28,
   "metadata": {
    "collapsed": true,
    "deletable": true,
    "editable": true
   },
   "outputs": [],
   "source": [
    "# utility function to compute a batch\n",
    "# can compute over the optimizer or cost and return the cost if needed\n",
    "def computeBatch(solveFor):\n",
    "    x = 0\n",
    "    for batch in xrange(num_batches):\n",
    "        batch_start = batch*batch_size\n",
    "        batch_end = batch_start + batch_size\n",
    "        temp = sess.run(solveFor, feed_dict={X:train_x[batch_start:batch_end,:],Y:train_y[batch_start:batch_end]})\n",
    "        if type(temp) is not type(None):\n",
    "            x += temp\n",
    "    return x\n",
    "        "
   ]
  },
  {
   "cell_type": "code",
   "execution_count": 29,
   "metadata": {
    "collapsed": false,
    "deletable": true,
    "editable": true,
    "scrolled": true
   },
   "outputs": [
    {
     "name": "stdout",
     "output_type": "stream",
     "text": [
      "epoch: 0\t cost: [[ 0.09897293]]\n",
      "epoch: 50\t cost: [[ 0.06712592]]\n",
      "epoch: 100\t cost: [[ 0.05616406]]\n",
      "epoch: 150\t cost: [[ 0.05205899]]\n",
      "epoch: 200\t cost: [[ 0.05025939]]\n",
      "epoch: 250\t cost: [[ 0.04926991]]\n",
      "epoch: 300\t cost: [[ 0.04858801]]\n",
      "epoch: 350\t cost: [[ 0.04803813]]\n",
      "epoch: 400\t cost: [[ 0.04755502]]\n",
      "epoch: 450\t cost: [[ 0.04711216]]\n",
      "epoch: 500\t cost: [[ 0.0466975]]\n"
     ]
    },
    {
     "name": "stderr",
     "output_type": "stream",
     "text": [
      "/usr/local/lib/python2.7/dist-packages/ipykernel/__main__.py:23: RuntimeWarning: divide by zero encountered in log\n"
     ]
    },
    {
     "data": {
      "text/plain": [
       "<matplotlib.text.Text at 0x7f18dc0f8890>"
      ]
     },
     "execution_count": 29,
     "metadata": {},
     "output_type": "execute_result"
    },
    {
     "data": {
      "image/png": "[encoded data removed]",
      "text/plain": [
       "<matplotlib.figure.Figure at 0x7f18dc1b9c90>"
      ]
     },
     "metadata": {},
     "output_type": "display_data"
    },
    {
     "data": {
      "image/png": "[encoded data removed]",
      "text/plain": [
       "<matplotlib.figure.Figure at 0x7f18e09f6d10>"
      ]
     },
     "metadata": {},
     "output_type": "display_data"
    }
   ],
   "source": [
    "costs = np.array([])\n",
    "\n",
    "with tf.Session() as sess:\n",
    "    sess.run(init)\n",
    "\n",
    "    for epoch in xrange(epochs+1):\n",
    "        computeBatch(optimizer)\n",
    "        \n",
    "        if epoch % print_every == 0:\n",
    "            c = computeBatch(cost)\n",
    "            costs = np.append(costs,c)\n",
    "            print('epoch: {}\\t cost: {:}'.format(epoch, computeBatch(cost)))\n",
    "            \n",
    "    W_finished = sess.run(W)\n",
    "            \n",
    "plt.figure()\n",
    "plt.plot(np.linspace(0,epochs,epochs/print_every+1),costs)\n",
    "plt.title('Cost')\n",
    "plt.xlabel('Epoch Number')\n",
    "plt.ylabel('Cost')\n",
    "\n",
    "plt.figure()\n",
    "plt.plot(np.log(np.linspace(0,epochs,epochs/print_every+1)),np.log(costs))\n",
    "plt.title('Log Cost')\n",
    "plt.xlabel('log(Epoch Number)')\n",
    "plt.ylabel('log(Cost)')\n",
    "\n",
    "        "
   ]
  },
  {
   "cell_type": "code",
   "execution_count": 30,
   "metadata": {
    "collapsed": false,
    "deletable": true,
    "editable": true
   },
   "outputs": [
    {
     "name": "stdout",
     "output_type": "stream",
     "text": [
      "(20, 4)\n"
     ]
    }
   ],
   "source": [
    "pred_y = getY(test_x,W_finished,addNoise = False)"
   ]
  },
  {
   "cell_type": "code",
   "execution_count": 31,
   "metadata": {
    "collapsed": false,
    "deletable": true,
    "editable": true
   },
   "outputs": [
    {
     "data": {
      "text/plain": [
       "<matplotlib.legend.Legend at 0x7f18d47a6fd0>"
      ]
     },
     "execution_count": 31,
     "metadata": {},
     "output_type": "execute_result"
    },
    {
     "data": {
      "image/png": "[encoded data removed]",
      "text/plain": [
       "<matplotlib.figure.Figure at 0x7f18dc040510>"
      ]
     },
     "metadata": {},
     "output_type": "display_data"
    }
   ],
   "source": [
    "plt.plot(train_x[:,1],train_y,'go',label='original Training Data')\n",
    "plt.plot(test_x[:,1],test_y,'ko',label='original Testing Data')\n",
    "plt.plot(train_x[:,1],train_y,'ro',label='Training Data')\n",
    "plt.plot(test_x[:,1],test_y,'bo',label='Testing Data')\n",
    "plt.plot(test_x[:,1],pred_y,label='Line of Best Fit (Test)')\n",
    "plt.title('Resulting Model')\n",
    "plt.xlabel('x-data')\n",
    "plt.ylabel('y-data')\n",
    "plt.legend()"
   ]
  },
  {
   "cell_type": "code",
   "execution_count": 32,
   "metadata": {
    "collapsed": false,
    "deletable": true,
    "editable": true
   },
   "outputs": [
    {
     "name": "stdout",
     "output_type": "stream",
     "text": [
      "[[ 0.91380316]\n",
      " [ 1.39579332]\n",
      " [ 0.50442433]\n",
      " [ 0.06432717]]\n"
     ]
    }
   ],
   "source": [
    "# show the final weights\n",
    "print W_finished"
   ]
  }
 ],
 "metadata": {
  "kernelspec": {
   "display_name": "Python 2",
   "language": "python",
   "name": "python2"
  },
  "language_info": {
   "codemirror_mode": {
    "name": "ipython",
    "version": 2
   },
   "file_extension": ".py",
   "mimetype": "text/x-python",
   "name": "python",
   "nbconvert_exporter": "python",
   "pygments_lexer": "ipython2",
   "version": "2.7.12"
  }
 },
 "nbformat": 4,
 "nbformat_minor": 2
}
